{
 "cells": [
  {
   "cell_type": "code",
   "execution_count": 1,
   "id": "eaf3b2f8",
   "metadata": {},
   "outputs": [],
   "source": [
    "import numpy as np\n",
    "import pandas as pd"
   ]
  },
  {
   "cell_type": "code",
   "execution_count": 5,
   "id": "939f8117",
   "metadata": {},
   "outputs": [],
   "source": [
    "alonhadat_df = pd.read_csv(\"alonhadat.csv\")"
   ]
  },
  {
   "cell_type": "code",
   "execution_count": 6,
   "id": "64d01a5b",
   "metadata": {},
   "outputs": [
    {
     "data": {
      "text/html": [
       "<div>\n",
       "<style scoped>\n",
       "    .dataframe tbody tr th:only-of-type {\n",
       "        vertical-align: middle;\n",
       "    }\n",
       "\n",
       "    .dataframe tbody tr th {\n",
       "        vertical-align: top;\n",
       "    }\n",
       "\n",
       "    .dataframe thead th {\n",
       "        text-align: right;\n",
       "    }\n",
       "</style>\n",
       "<table border=\"1\" class=\"dataframe\">\n",
       "  <thead>\n",
       "    <tr style=\"text-align: right;\">\n",
       "      <th></th>\n",
       "      <th>url</th>\n",
       "      <th>address</th>\n",
       "      <th>Latitude</th>\n",
       "      <th>Longitude</th>\n",
       "      <th>facade</th>\n",
       "      <th>direction</th>\n",
       "      <th>age</th>\n",
       "      <th>area</th>\n",
       "      <th>bedroom</th>\n",
       "      <th>bathroom</th>\n",
       "      <th>floors</th>\n",
       "      <th>house_type</th>\n",
       "      <th>price</th>\n",
       "      <th>additional_info</th>\n",
       "    </tr>\n",
       "  </thead>\n",
       "  <tbody>\n",
       "    <tr>\n",
       "      <th>0</th>\n",
       "      <td>https://alonhadat.com.vn/sieu-hiem-view-tttm-t...</td>\n",
       "      <td>Phố Tố Hữu, Dương Nội, Hà Đông Đường Tố Hữu, ...</td>\n",
       "      <td>209.820.679</td>\n",
       "      <td>1.057.556.341</td>\n",
       "      <td>4.5</td>\n",
       "      <td>NaN</td>\n",
       "      <td>NaN</td>\n",
       "      <td>55.0</td>\n",
       "      <td>5.0</td>\n",
       "      <td>NaN</td>\n",
       "      <td>6.0</td>\n",
       "      <td>Nhà mặt tiền</td>\n",
       "      <td>7.65</td>\n",
       "      <td>AdditionalInfo(street_size=[25.0])</td>\n",
       "    </tr>\n",
       "    <tr>\n",
       "      <th>1</th>\n",
       "      <td>https://alonhadat.com.vn/chu-thien-chi-ban-gap...</td>\n",
       "      <td>Phố Thái Hà, Phường Trung Liệt, Quận Đống Đa...</td>\n",
       "      <td>210.092.389</td>\n",
       "      <td>1.058.242.302</td>\n",
       "      <td>3.5</td>\n",
       "      <td>NaN</td>\n",
       "      <td>NaN</td>\n",
       "      <td>35.0</td>\n",
       "      <td>7.0</td>\n",
       "      <td>NaN</td>\n",
       "      <td>5.0</td>\n",
       "      <td>Nhà mặt tiền</td>\n",
       "      <td>8.8</td>\n",
       "      <td>AdditionalInfo(street_size=[15.0])</td>\n",
       "    </tr>\n",
       "    <tr>\n",
       "      <th>2</th>\n",
       "      <td>https://alonhadat.com.vn/ban-nha-view-ho-thach...</td>\n",
       "      <td>Đường Thạch Bàn, Phường Thạch Bàn, Quận Long ...</td>\n",
       "      <td>210.218.618</td>\n",
       "      <td>1.059.085.869</td>\n",
       "      <td>5.0</td>\n",
       "      <td>NaN</td>\n",
       "      <td>NaN</td>\n",
       "      <td>30.0</td>\n",
       "      <td>3.0</td>\n",
       "      <td>NaN</td>\n",
       "      <td>5.0</td>\n",
       "      <td>Nhà trong hẻm</td>\n",
       "      <td>2.6</td>\n",
       "      <td>AdditionalInfo(street_size=[3.5])</td>\n",
       "    </tr>\n",
       "    <tr>\n",
       "      <th>3</th>\n",
       "      <td>https://alonhadat.com.vn/ban-nha-dep-thuy-khue...</td>\n",
       "      <td>Đường Thụy Khuê, Phường Thụy Khuê, Quận Tây H...</td>\n",
       "      <td>2.104.272</td>\n",
       "      <td>1.058.241.554</td>\n",
       "      <td>4.8</td>\n",
       "      <td>NaN</td>\n",
       "      <td>NaN</td>\n",
       "      <td>48.0</td>\n",
       "      <td>5.0</td>\n",
       "      <td>NaN</td>\n",
       "      <td>4.0</td>\n",
       "      <td>Nhà trong hẻm</td>\n",
       "      <td>4.0</td>\n",
       "      <td>AdditionalInfo(street_size=[3.0])</td>\n",
       "    </tr>\n",
       "    <tr>\n",
       "      <th>4</th>\n",
       "      <td>https://alonhadat.com.vn/ban-nha-pho-trung-kin...</td>\n",
       "      <td>80 Phố Trung Kính, Phường Yên Hòa, Quận Cầu G...</td>\n",
       "      <td>21.015.593</td>\n",
       "      <td>105.794.929</td>\n",
       "      <td>NaN</td>\n",
       "      <td>NaN</td>\n",
       "      <td>NaN</td>\n",
       "      <td>85.0</td>\n",
       "      <td>NaN</td>\n",
       "      <td>NaN</td>\n",
       "      <td>6.0</td>\n",
       "      <td>Nhà trong hẻm</td>\n",
       "      <td>22.0</td>\n",
       "      <td>AdditionalInfo(street_size=[0.0])</td>\n",
       "    </tr>\n",
       "  </tbody>\n",
       "</table>\n",
       "</div>"
      ],
      "text/plain": [
       "                                                 url  \\\n",
       "0  https://alonhadat.com.vn/sieu-hiem-view-tttm-t...   \n",
       "1  https://alonhadat.com.vn/chu-thien-chi-ban-gap...   \n",
       "2  https://alonhadat.com.vn/ban-nha-view-ho-thach...   \n",
       "3  https://alonhadat.com.vn/ban-nha-dep-thuy-khue...   \n",
       "4  https://alonhadat.com.vn/ban-nha-pho-trung-kin...   \n",
       "\n",
       "                                             address     Latitude  \\\n",
       "0   Phố Tố Hữu, Dương Nội, Hà Đông Đường Tố Hữu, ...  209.820.679   \n",
       "1   Phố Thái Hà, Phường Trung Liệt, Quận Đống Đa...  210.092.389   \n",
       "2   Đường Thạch Bàn, Phường Thạch Bàn, Quận Long ...  210.218.618   \n",
       "3   Đường Thụy Khuê, Phường Thụy Khuê, Quận Tây H...    2.104.272   \n",
       "4   80 Phố Trung Kính, Phường Yên Hòa, Quận Cầu G...   21.015.593   \n",
       "\n",
       "       Longitude  facade direction  age  area  bedroom  bathroom  floors  \\\n",
       "0  1.057.556.341     4.5       NaN  NaN  55.0      5.0       NaN     6.0   \n",
       "1  1.058.242.302     3.5       NaN  NaN  35.0      7.0       NaN     5.0   \n",
       "2  1.059.085.869     5.0       NaN  NaN  30.0      3.0       NaN     5.0   \n",
       "3  1.058.241.554     4.8       NaN  NaN  48.0      5.0       NaN     4.0   \n",
       "4    105.794.929     NaN       NaN  NaN  85.0      NaN       NaN     6.0   \n",
       "\n",
       "      house_type price                     additional_info  \n",
       "0   Nhà mặt tiền  7.65  AdditionalInfo(street_size=[25.0])  \n",
       "1   Nhà mặt tiền   8.8  AdditionalInfo(street_size=[15.0])  \n",
       "2  Nhà trong hẻm   2.6   AdditionalInfo(street_size=[3.5])  \n",
       "3  Nhà trong hẻm   4.0   AdditionalInfo(street_size=[3.0])  \n",
       "4  Nhà trong hẻm  22.0   AdditionalInfo(street_size=[0.0])  "
      ]
     },
     "execution_count": 6,
     "metadata": {},
     "output_type": "execute_result"
    }
   ],
   "source": [
    "alonhadat_df.head()"
   ]
  },
  {
   "cell_type": "code",
   "execution_count": 9,
   "id": "5d999c7f",
   "metadata": {},
   "outputs": [
    {
     "data": {
      "text/plain": [
       "Index(['url', 'address', 'Latitude', 'Longitude', 'facade', 'direction', 'age',\n",
       "       'area', 'bedroom', 'bathroom', 'floors', 'house_type', 'price',\n",
       "       'additional_info'],\n",
       "      dtype='object')"
      ]
     },
     "execution_count": 9,
     "metadata": {},
     "output_type": "execute_result"
    }
   ],
   "source": [
    "alonhadat_df.columns"
   ]
  },
  {
   "cell_type": "code",
   "execution_count": 10,
   "id": "1b0e359d",
   "metadata": {},
   "outputs": [
    {
     "data": {
      "text/plain": [
       "url                 object\n",
       "address             object\n",
       "Latitude            object\n",
       "Longitude           object\n",
       "facade             float64\n",
       "direction           object\n",
       "age                float64\n",
       "area               float64\n",
       "bedroom            float64\n",
       "bathroom           float64\n",
       "floors             float64\n",
       "house_type          object\n",
       "price               object\n",
       "additional_info     object\n",
       "dtype: object"
      ]
     },
     "execution_count": 10,
     "metadata": {},
     "output_type": "execute_result"
    }
   ],
   "source": [
    "alonhadat_df.dtypes"
   ]
  },
  {
   "cell_type": "code",
   "execution_count": 39,
   "id": "dfe1bbde",
   "metadata": {},
   "outputs": [
    {
     "data": {
      "text/plain": [
       "21.443432"
      ]
     },
     "execution_count": 39,
     "metadata": {},
     "output_type": "execute_result"
    }
   ],
   "source": [
    "def convert_titude(titude, shift):\n",
    "    raw = float(titude.replace(\".\",\"\"))\n",
    "    number = np.floor(np.log10(raw)) - shift\n",
    "    return raw / 10** number\n",
    "\n",
    "\n",
    "convert_titude(\"21.443.432\", 1)"
   ]
  },
  {
   "cell_type": "code",
   "execution_count": 30,
   "id": "bdc7d941",
   "metadata": {},
   "outputs": [],
   "source": [
    "alonhadat_df['Latitude'] = alonhadat_df['Latitude'].apply(convert_titude)\n",
    "alonhadat_df['Longitude'] = alonhadat_df['Longitude'].apply(convert_titude)"
   ]
  },
  {
   "cell_type": "code",
   "execution_count": 42,
   "id": "3aa4b422",
   "metadata": {},
   "outputs": [
    {
     "data": {
      "text/html": [
       "<div>\n",
       "<style scoped>\n",
       "    .dataframe tbody tr th:only-of-type {\n",
       "        vertical-align: middle;\n",
       "    }\n",
       "\n",
       "    .dataframe tbody tr th {\n",
       "        vertical-align: top;\n",
       "    }\n",
       "\n",
       "    .dataframe thead th {\n",
       "        text-align: right;\n",
       "    }\n",
       "</style>\n",
       "<table border=\"1\" class=\"dataframe\">\n",
       "  <thead>\n",
       "    <tr style=\"text-align: right;\">\n",
       "      <th></th>\n",
       "      <th>url</th>\n",
       "      <th>address</th>\n",
       "      <th>Latitude</th>\n",
       "      <th>Longitude</th>\n",
       "      <th>facade</th>\n",
       "      <th>direction</th>\n",
       "      <th>age</th>\n",
       "      <th>area</th>\n",
       "      <th>bedroom</th>\n",
       "      <th>bathroom</th>\n",
       "      <th>floors</th>\n",
       "      <th>house_type</th>\n",
       "      <th>price</th>\n",
       "      <th>additional_info</th>\n",
       "    </tr>\n",
       "  </thead>\n",
       "  <tbody>\n",
       "    <tr>\n",
       "      <th>0</th>\n",
       "      <td>https://alonhadat.com.vn/sieu-hiem-view-tttm-t...</td>\n",
       "      <td>Phố Tố Hữu, Dương Nội, Hà Đông Đường Tố Hữu, ...</td>\n",
       "      <td>20.982068</td>\n",
       "      <td>105.755634</td>\n",
       "      <td>4.5</td>\n",
       "      <td>NaN</td>\n",
       "      <td>NaN</td>\n",
       "      <td>55.0</td>\n",
       "      <td>5.0</td>\n",
       "      <td>NaN</td>\n",
       "      <td>6.0</td>\n",
       "      <td>Nhà mặt tiền</td>\n",
       "      <td>7.65</td>\n",
       "      <td>AdditionalInfo(street_size=[25.0])</td>\n",
       "    </tr>\n",
       "    <tr>\n",
       "      <th>1</th>\n",
       "      <td>https://alonhadat.com.vn/chu-thien-chi-ban-gap...</td>\n",
       "      <td>Phố Thái Hà, Phường Trung Liệt, Quận Đống Đa...</td>\n",
       "      <td>21.009239</td>\n",
       "      <td>105.824230</td>\n",
       "      <td>3.5</td>\n",
       "      <td>NaN</td>\n",
       "      <td>NaN</td>\n",
       "      <td>35.0</td>\n",
       "      <td>7.0</td>\n",
       "      <td>NaN</td>\n",
       "      <td>5.0</td>\n",
       "      <td>Nhà mặt tiền</td>\n",
       "      <td>8.8</td>\n",
       "      <td>AdditionalInfo(street_size=[15.0])</td>\n",
       "    </tr>\n",
       "    <tr>\n",
       "      <th>2</th>\n",
       "      <td>https://alonhadat.com.vn/ban-nha-view-ho-thach...</td>\n",
       "      <td>Đường Thạch Bàn, Phường Thạch Bàn, Quận Long ...</td>\n",
       "      <td>21.021862</td>\n",
       "      <td>105.908587</td>\n",
       "      <td>5.0</td>\n",
       "      <td>NaN</td>\n",
       "      <td>NaN</td>\n",
       "      <td>30.0</td>\n",
       "      <td>3.0</td>\n",
       "      <td>NaN</td>\n",
       "      <td>5.0</td>\n",
       "      <td>Nhà trong hẻm</td>\n",
       "      <td>2.6</td>\n",
       "      <td>AdditionalInfo(street_size=[3.5])</td>\n",
       "    </tr>\n",
       "    <tr>\n",
       "      <th>3</th>\n",
       "      <td>https://alonhadat.com.vn/ban-nha-dep-thuy-khue...</td>\n",
       "      <td>Đường Thụy Khuê, Phường Thụy Khuê, Quận Tây H...</td>\n",
       "      <td>21.042720</td>\n",
       "      <td>105.824155</td>\n",
       "      <td>4.8</td>\n",
       "      <td>NaN</td>\n",
       "      <td>NaN</td>\n",
       "      <td>48.0</td>\n",
       "      <td>5.0</td>\n",
       "      <td>NaN</td>\n",
       "      <td>4.0</td>\n",
       "      <td>Nhà trong hẻm</td>\n",
       "      <td>4.0</td>\n",
       "      <td>AdditionalInfo(street_size=[3.0])</td>\n",
       "    </tr>\n",
       "    <tr>\n",
       "      <th>4</th>\n",
       "      <td>https://alonhadat.com.vn/ban-nha-pho-trung-kin...</td>\n",
       "      <td>80 Phố Trung Kính, Phường Yên Hòa, Quận Cầu G...</td>\n",
       "      <td>21.015593</td>\n",
       "      <td>105.794929</td>\n",
       "      <td>NaN</td>\n",
       "      <td>NaN</td>\n",
       "      <td>NaN</td>\n",
       "      <td>85.0</td>\n",
       "      <td>NaN</td>\n",
       "      <td>NaN</td>\n",
       "      <td>6.0</td>\n",
       "      <td>Nhà trong hẻm</td>\n",
       "      <td>22.0</td>\n",
       "      <td>AdditionalInfo(street_size=[0.0])</td>\n",
       "    </tr>\n",
       "  </tbody>\n",
       "</table>\n",
       "</div>"
      ],
      "text/plain": [
       "                                                 url  \\\n",
       "0  https://alonhadat.com.vn/sieu-hiem-view-tttm-t...   \n",
       "1  https://alonhadat.com.vn/chu-thien-chi-ban-gap...   \n",
       "2  https://alonhadat.com.vn/ban-nha-view-ho-thach...   \n",
       "3  https://alonhadat.com.vn/ban-nha-dep-thuy-khue...   \n",
       "4  https://alonhadat.com.vn/ban-nha-pho-trung-kin...   \n",
       "\n",
       "                                             address   Latitude   Longitude  \\\n",
       "0   Phố Tố Hữu, Dương Nội, Hà Đông Đường Tố Hữu, ...  20.982068  105.755634   \n",
       "1   Phố Thái Hà, Phường Trung Liệt, Quận Đống Đa...  21.009239  105.824230   \n",
       "2   Đường Thạch Bàn, Phường Thạch Bàn, Quận Long ...  21.021862  105.908587   \n",
       "3   Đường Thụy Khuê, Phường Thụy Khuê, Quận Tây H...  21.042720  105.824155   \n",
       "4   80 Phố Trung Kính, Phường Yên Hòa, Quận Cầu G...  21.015593  105.794929   \n",
       "\n",
       "   facade direction  age  area  bedroom  bathroom  floors     house_type  \\\n",
       "0     4.5       NaN  NaN  55.0      5.0       NaN     6.0   Nhà mặt tiền   \n",
       "1     3.5       NaN  NaN  35.0      7.0       NaN     5.0   Nhà mặt tiền   \n",
       "2     5.0       NaN  NaN  30.0      3.0       NaN     5.0  Nhà trong hẻm   \n",
       "3     4.8       NaN  NaN  48.0      5.0       NaN     4.0  Nhà trong hẻm   \n",
       "4     NaN       NaN  NaN  85.0      NaN       NaN     6.0  Nhà trong hẻm   \n",
       "\n",
       "  price                     additional_info  \n",
       "0  7.65  AdditionalInfo(street_size=[25.0])  \n",
       "1   8.8  AdditionalInfo(street_size=[15.0])  \n",
       "2   2.6   AdditionalInfo(street_size=[3.5])  \n",
       "3   4.0   AdditionalInfo(street_size=[3.0])  \n",
       "4  22.0   AdditionalInfo(street_size=[0.0])  "
      ]
     },
     "execution_count": 42,
     "metadata": {},
     "output_type": "execute_result"
    }
   ],
   "source": [
    "alonhadat_df.head()"
   ]
  },
  {
   "cell_type": "code",
   "execution_count": 41,
   "id": "1e185a40",
   "metadata": {},
   "outputs": [],
   "source": [
    "alonhadat_df.to_excel(\"format_long_la.xlsx\")"
   ]
  },
  {
   "cell_type": "code",
   "execution_count": 37,
   "id": "ec162e4b",
   "metadata": {},
   "outputs": [],
   "source": [
    "alonhadat_df = pd.read_excel(\"format_long_la.xlsx\", index_col=0)"
   ]
  },
  {
   "cell_type": "code",
   "execution_count": 38,
   "id": "23a4508b",
   "metadata": {},
   "outputs": [
    {
     "data": {
      "text/plain": [
       "url                 object\n",
       "address             object\n",
       "Latitude           float64\n",
       "Longitude          float64\n",
       "facade             float64\n",
       "direction           object\n",
       "age                float64\n",
       "area               float64\n",
       "bedroom            float64\n",
       "bathroom           float64\n",
       "floors             float64\n",
       "house_type          object\n",
       "price               object\n",
       "additional_info     object\n",
       "dtype: object"
      ]
     },
     "execution_count": 38,
     "metadata": {},
     "output_type": "execute_result"
    }
   ],
   "source": [
    "alonhadat_df.dtypes"
   ]
  },
  {
   "cell_type": "code",
   "execution_count": 40,
   "id": "666e44d8",
   "metadata": {},
   "outputs": [],
   "source": [
    "alonhadat_df['Latitude'] = alonhadat_df['Latitude'].apply(lambda x : x / 10)"
   ]
  },
  {
   "cell_type": "code",
   "execution_count": null,
   "id": "0f7cd3ac",
   "metadata": {},
   "outputs": [],
   "source": []
  }
 ],
 "metadata": {
  "kernelspec": {
   "display_name": "Python 3",
   "language": "python",
   "name": "python3"
  },
  "language_info": {
   "codemirror_mode": {
    "name": "ipython",
    "version": 3
   },
   "file_extension": ".py",
   "mimetype": "text/x-python",
   "name": "python",
   "nbconvert_exporter": "python",
   "pygments_lexer": "ipython3",
   "version": "3.8.8"
  }
 },
 "nbformat": 4,
 "nbformat_minor": 5
}
