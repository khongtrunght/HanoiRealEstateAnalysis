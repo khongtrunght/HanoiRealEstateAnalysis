{
 "cells": [
  {
   "cell_type": "markdown",
   "metadata": {},
   "source": [
    "# Preprocess data from batdongsan website"
   ]
  },
  {
   "cell_type": "code",
   "execution_count": 33,
   "metadata": {},
   "outputs": [
    {
     "data": {
      "text/plain": [
       "'d:\\\\OneDrive - Hanoi University of Science and Technology\\\\HUST\\\\CLASS\\\\20211\\\\DataScience\\\\Project\\\\Test_alonhadat'"
      ]
     },
     "execution_count": 33,
     "metadata": {},
     "output_type": "execute_result"
    }
   ],
   "source": [
    "%pwd"
   ]
  },
  {
   "cell_type": "code",
   "execution_count": 2,
   "metadata": {},
   "outputs": [
    {
     "name": "stdout",
     "output_type": "stream",
     "text": [
      "d:\\OneDrive - Hanoi University of Science and Technology\\HUST\\CLASS\\20211\\DataScience\\Project\\Test_alonhadat\n"
     ]
    }
   ],
   "source": [
    "%cd .."
   ]
  },
  {
   "cell_type": "code",
   "execution_count": 3,
   "metadata": {},
   "outputs": [],
   "source": [
    "import findspark\n",
    "findspark.init()\n",
    "\n",
    "import pyspark\n",
    "from pyspark.sql import *\n",
    "from pyspark.sql.functions import *\n",
    "from pyspark.sql.types import *\n",
    "import numpy as np \n",
    "\n"
   ]
  },
  {
   "cell_type": "code",
   "execution_count": 4,
   "metadata": {},
   "outputs": [],
   "source": [
    "spark = SparkSession.builder.appName('Clean Data').getOrCreate()"
   ]
  },
  {
   "cell_type": "code",
   "execution_count": 5,
   "metadata": {},
   "outputs": [],
   "source": [
    "folder = 'resources/data/final/'\n",
    "files = [ \"bds_lat_long.csv\", \"alo_nha_dat_lat_long.csv\", \"out_department_lat_long.csv\", \"out_house_lat_long.csv\"]\n",
    "files_path = [folder + file for file in files]"
   ]
  },
  {
   "cell_type": "code",
   "execution_count": 18,
   "metadata": {},
   "outputs": [
    {
     "data": {
      "text/plain": [
       "['resources/data/final/bds_lat_long.csv',\n",
       " 'resources/data/final/alo_nha_dat_lat_long.csv',\n",
       " 'resources/data/final/out_department_lat_long.csv',\n",
       " 'resources/data/final/out_house_lat_long.csv']"
      ]
     },
     "execution_count": 18,
     "metadata": {},
     "output_type": "execute_result"
    }
   ],
   "source": [
    "files_path"
   ]
  },
  {
   "cell_type": "code",
   "execution_count": 6,
   "metadata": {},
   "outputs": [],
   "source": [
    "schema = StructType([\n",
    "    StructField('address', StringType(), True),\n",
    "    StructField('facade', FloatType(), True),\n",
    "    StructField('direction', StringType(), True),\n",
    "    StructField('area', FloatType(), True),\n",
    "    StructField('bedroom', IntegerType(), True),\n",
    "    StructField('bathroom', IntegerType(), True),\n",
    "    StructField('floors', IntegerType(), True),\n",
    "    StructField('house_type', StringType(), True),\n",
    "    StructField('price', FloatType(), True),\n",
    "    StructField('street_size', FloatType(), True),\n",
    "    StructField('lat', FloatType(), True),\n",
    "    StructField('lng', FloatType(), True),\n",
    "])\n",
    "\n"
   ]
  },
  {
   "cell_type": "code",
   "execution_count": 7,
   "metadata": {},
   "outputs": [
    {
     "data": {
      "text/html": [
       "\n",
       "            <div>\n",
       "                <p><b>SparkSession - in-memory</b></p>\n",
       "                \n",
       "        <div>\n",
       "            <p><b>SparkContext</b></p>\n",
       "\n",
       "            <p><a href=\"http://192.168.1.4:4040\">Spark UI</a></p>\n",
       "\n",
       "            <dl>\n",
       "              <dt>Version</dt>\n",
       "                <dd><code>v3.2.0</code></dd>\n",
       "              <dt>Master</dt>\n",
       "                <dd><code>local[*]</code></dd>\n",
       "              <dt>AppName</dt>\n",
       "                <dd><code>Clean Data</code></dd>\n",
       "            </dl>\n",
       "        </div>\n",
       "        \n",
       "            </div>\n",
       "        "
      ],
      "text/plain": [
       "<pyspark.sql.session.SparkSession at 0x23a49115c70>"
      ]
     },
     "execution_count": 7,
     "metadata": {},
     "output_type": "execute_result"
    }
   ],
   "source": [
    "spark"
   ]
  },
  {
   "cell_type": "code",
   "execution_count": 8,
   "metadata": {},
   "outputs": [],
   "source": [
    "bds_df = spark.read.csv(\"resources/data/final/bds_lat_long.csv\", header=True)"
   ]
  },
  {
   "cell_type": "markdown",
   "metadata": {},
   "source": [
    "## Convert Type"
   ]
  },
  {
   "cell_type": "code",
   "execution_count": 10,
   "metadata": {},
   "outputs": [],
   "source": [
    "cvt = {\"StringType\" : 'str',\n",
    " \"FloatType\" : 'float',\n",
    " \"IntegerType\" : 'int'}\n",
    "\n",
    "sql_cvt = [f\"cast({field.name} as {cvt[str(field.dataType)]})  {field.name}\" if str(field.dataType) != 'StringType' else f\"{field.name}\" for field in schema.fields ]\n",
    "\n",
    "bds_df_cast = bds_df.selectExpr(*sql_cvt)"
   ]
  },
  {
   "cell_type": "code",
   "execution_count": 11,
   "metadata": {},
   "outputs": [
    {
     "name": "stdout",
     "output_type": "stream",
     "text": [
      "+--------------------+------+---------+------+-------+--------+------+--------------------+-----+-----------+--------+---------+\n",
      "|             address|facade|direction|  area|bedroom|bathroom|floors|          house_type|price|street_size|     lat|      lng|\n",
      "+--------------------+------+---------+------+-------+--------+------+--------------------+-----+-----------+--------+---------+\n",
      "| Nam Từ Liêm, Hà ...|   4.3| Đông-Nam|  40.0|      6|       4|     5|       Bán nhà riêng| 2.85|       null|21.00813| 105.7665|\n",
      "| Dự án The Link 3...|  null|     null|  72.0|      2|       2|  null| Bán căn hộ chung cư| 2.88|       null|21.08525|105.78535|\n",
      "| Dự án The Manor ...|  null|     null|  null|      4|       6|     5|Bán nhà mặt phố (...| 18.0|       null|20.98051|105.81113|\n",
      "| Phố Liễu Giai, P...|   6.0|     null|  60.0|     12|    null|     7|Bán nhà mặt phố (...| 36.2|       40.0|21.03517|  105.815|\n",
      "| Dự án Sunshine H...|  35.0|     null|1005.0|   null|    null|  null|Bán đất nền dự án...|12.06|       24.0|     0.0|      0.0|\n",
      "| đường Mỹ Đình, P...|   5.0|     null|  47.5|      6|       4|     5|       Bán nhà riêng|  3.0|        3.0|21.01999|105.77649|\n",
      "| Xã Phú Cát, Quốc...|   5.5|     null| 140.0|   null|    null|  null|             Bán đất| null|       null|20.97248|105.56048|\n",
      "| Đường Nguyễn An ...|   5.0| Đông-Bắc|  60.0|      5|       5|     7|       Bán nhà riêng| 14.6|       null|20.99069|105.84494|\n",
      "| Dự án Geleximco ...|   6.0|     null| 160.0|   null|    null|     4|Bán nhà biệt thự,...| null|       42.0|20.98215|105.74229|\n",
      "| Dự án Vinhomes S...|  null| Đông-Nam|  80.0|      2|       2|  null| Bán căn hộ chung cư|  3.4|       null| 21.0196|105.78084|\n",
      "| Dự án Vinhomes S...|  null|     null|  65.0|      2|       2|  null| Bán căn hộ chung cư| 1.75|       null|21.00816|105.73864|\n",
      "| Đường Nguyễn Khá...|   8.6|  Tây-Nam|  96.5|      4|       3|     3|Bán nhà biệt thự,...| 14.0|        7.5|21.03807|105.80397|\n",
      "| Số 12B, ngách 31...|   5.0| Đông-Nam|  55.0|      4|       3|     4|       Bán nhà riêng|  5.0|        2.0|20.99812|105.85794|\n",
      "| Dự án Vinhomes R...|  null|  Tây-Bắc| 322.0|   null|    null|  null|Bán nhà biệt thự,...|57.96|       null|21.04247|105.91277|\n",
      "| Dự án Vinhomes O...|  null|     null|  76.6|      3|       2|  null| Bán căn hộ chung cư|  2.5|       null|20.98592|105.93454|\n",
      "| Dự án Jade Orchi...|  null|     null| 129.5|      4|    null|  null| Bán căn hộ chung cư|  4.6|       null|21.07552|105.78441|\n",
      "| Dự án Mỹ Đình Pe...|  null|     null|  50.0|   null|    null|  null| Bán căn hộ chung cư|  1.9|       null|21.01109|105.77129|\n",
      "| Dự án KĐT Tây Hồ...|  30.0|     null| 350.0|   null|    null|  null|Bán nhà biệt thự,...|105.0|       13.0|21.05182|105.79776|\n",
      "| Dự án Louis City...|   5.0|      Bắc| 112.0|   null|    null|     5|Bán nhà biệt thự,...| 15.2|       13.5|20.98837|  105.857|\n",
      "| Dự án 6th Elemen...|  null|     null|  83.0|      2|       2|  null| Bán căn hộ chung cư| 3.65|       null|21.05138|105.79911|\n",
      "+--------------------+------+---------+------+-------+--------+------+--------------------+-----+-----------+--------+---------+\n",
      "only showing top 20 rows\n",
      "\n"
     ]
    }
   ],
   "source": [
    "bds_df_cast.show()"
   ]
  },
  {
   "cell_type": "code",
   "execution_count": 22,
   "metadata": {},
   "outputs": [
    {
     "name": "stdout",
     "output_type": "stream",
     "text": [
      "root\n",
      " |-- address: string (nullable = true)\n",
      " |-- facade: float (nullable = true)\n",
      " |-- direction: string (nullable = true)\n",
      " |-- area: float (nullable = true)\n",
      " |-- bedroom: integer (nullable = true)\n",
      " |-- bathroom: integer (nullable = true)\n",
      " |-- floors: integer (nullable = true)\n",
      " |-- house_type: string (nullable = true)\n",
      " |-- price: float (nullable = true)\n",
      " |-- street_size: float (nullable = true)\n",
      " |-- lat: float (nullable = true)\n",
      " |-- lng: float (nullable = true)\n",
      "\n"
     ]
    },
    {
     "data": {
      "text/plain": [
       "29612"
      ]
     },
     "execution_count": 22,
     "metadata": {},
     "output_type": "execute_result"
    }
   ],
   "source": [
    "bds_df_cast.printSchema()\n",
    "\n",
    "bds_df_cast.count()"
   ]
  },
  {
   "cell_type": "markdown",
   "metadata": {},
   "source": [
    "## Remove some null value"
   ]
  },
  {
   "cell_type": "code",
   "execution_count": 26,
   "metadata": {},
   "outputs": [
    {
     "name": "stdout",
     "output_type": "stream",
     "text": [
      "Number of rows after filter:  24745\n"
     ]
    }
   ],
   "source": [
    "# remove null address, price or lat/lng\n",
    "\n",
    "bds_df_cast = bds_df_cast.filter(\"address is not NULL\")\\\n",
    "    .filter(\"price is not NULL\")\\\n",
    "    .filter(\"lat != 0.0\")\\\n",
    "    .filter(\"area is not NULL\")\n",
    "    \n",
    "print(\"Number of rows after filter: \", bds_df_cast.count())"
   ]
  },
  {
   "cell_type": "code",
   "execution_count": 27,
   "metadata": {},
   "outputs": [
    {
     "name": "stdout",
     "output_type": "stream",
     "text": [
      "+-------+--------------------+-----------------+---------+------------------+-----------------+-----------------+------------------+--------------------+----------------+------------------+------------------+------------------+\n",
      "|summary|             address|           facade|direction|              area|          bedroom|         bathroom|            floors|          house_type|           price|       street_size|               lat|               lng|\n",
      "+-------+--------------------+-----------------+---------+------------------+-----------------+-----------------+------------------+--------------------+----------------+------------------+------------------+------------------+\n",
      "|  count|               24745|            13970|     7065|             24745|            16136|            13486|             13203|               24745|           24745|             11495|             24745|             24745|\n",
      "|   mean|                null|7.239799565627222|     null|249.45406749591993|4.441001487357462|4.034850956547531| 4.876088767704309|                null|48.6359532118169|10.214472378995845|21.041078446219245|105.72833813193061|\n",
      "| stddev|                null| 16.6714411280261|     null|10832.973754309225|5.445551733234051|5.255021223280822|2.1884632507968207|                null|3599.63708288331|13.408832208994134|0.9753299314860916| 2.843876711347019|\n",
      "|    min| 1, Đường Triều K...|              0.5|      Bắc|               3.0|                1|                1|                 1| Bán căn hộ chung cư|         0.00134|              0.25|           11.6638|         -85.86953|\n",
      "|    max| Ường Chùa Thiên ...|            922.0| Đông-Nam|         1200000.0|              234|              250|               110|Bán đất nền dự án...|        400000.0|             583.0|          59.35756|         107.11215|\n",
      "+-------+--------------------+-----------------+---------+------------------+-----------------+-----------------+------------------+--------------------+----------------+------------------+------------------+------------------+\n",
      "\n"
     ]
    }
   ],
   "source": [
    "bds_df_cast.describe().show()"
   ]
  },
  {
   "cell_type": "code",
   "execution_count": 32,
   "metadata": {},
   "outputs": [],
   "source": [
    "bds_df_cast.toPandas().to_csv(\"resources/data/final/clean/bds_lat_long_clean.csv\", header=True)"
   ]
  },
  {
   "cell_type": "code",
   "execution_count": null,
   "metadata": {},
   "outputs": [],
   "source": []
  }
 ],
 "metadata": {
  "interpreter": {
   "hash": "7207a9b4f87859c6033f4a38aff786067938802fd72543345f36428dbb24ad03"
  },
  "kernelspec": {
   "display_name": "Python 3.9.7 64-bit ('ds_project': conda)",
   "language": "python",
   "name": "python3"
  },
  "language_info": {
   "codemirror_mode": {
    "name": "ipython",
    "version": 3
   },
   "file_extension": ".py",
   "mimetype": "text/x-python",
   "name": "python",
   "nbconvert_exporter": "python",
   "pygments_lexer": "ipython3",
   "version": "3.9.7"
  },
  "orig_nbformat": 4
 },
 "nbformat": 4,
 "nbformat_minor": 2
}
