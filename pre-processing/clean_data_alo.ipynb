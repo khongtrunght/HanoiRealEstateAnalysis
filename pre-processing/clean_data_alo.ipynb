{
 "cells": [
  {
   "cell_type": "code",
   "execution_count": 1,
   "metadata": {},
   "outputs": [
    {
     "data": {
      "text/plain": [
       "'d:\\\\OneDrive - Hanoi University of Science and Technology\\\\HUST\\\\CLASS\\\\20211\\\\DataScience\\\\Project\\\\Test_alonhadat\\\\pre-processing'"
      ]
     },
     "execution_count": 1,
     "metadata": {},
     "output_type": "execute_result"
    }
   ],
   "source": [
    "%pwd"
   ]
  },
  {
   "cell_type": "code",
   "execution_count": 2,
   "metadata": {},
   "outputs": [
    {
     "name": "stdout",
     "output_type": "stream",
     "text": [
      "d:\\OneDrive - Hanoi University of Science and Technology\\HUST\\CLASS\\20211\\DataScience\\Project\\Test_alonhadat\n"
     ]
    }
   ],
   "source": [
    "%cd .."
   ]
  },
  {
   "cell_type": "code",
   "execution_count": 3,
   "metadata": {},
   "outputs": [],
   "source": [
    "import findspark\n",
    "findspark.init()\n",
    "\n",
    "import pyspark\n",
    "from pyspark.sql import *\n",
    "from pyspark.sql.functions import *\n",
    "from pyspark.sql.types import *\n",
    "import numpy as np \n",
    "\n"
   ]
  },
  {
   "cell_type": "code",
   "execution_count": 4,
   "metadata": {},
   "outputs": [],
   "source": [
    "spark = SparkSession.builder.appName('Clean Data').getOrCreate()"
   ]
  },
  {
   "cell_type": "code",
   "execution_count": 5,
   "metadata": {},
   "outputs": [],
   "source": [
    "schema = StructType([\n",
    "    StructField('address', StringType(), True),\n",
    "    StructField('facade', FloatType(), True),\n",
    "    StructField('direction', StringType(), True),\n",
    "    StructField('area', FloatType(), True),\n",
    "    StructField('bedroom', IntegerType(), True),\n",
    "    StructField('bathroom', IntegerType(), True),\n",
    "    StructField('floors', IntegerType(), True),\n",
    "    StructField('house_type', StringType(), True),\n",
    "    StructField('price', FloatType(), True),\n",
    "    StructField('street_size', FloatType(), True),\n",
    "    StructField('lat', FloatType(), True),\n",
    "    StructField('lng', FloatType(), True),\n",
    "])\n",
    "\n"
   ]
  },
  {
   "cell_type": "code",
   "execution_count": 6,
   "metadata": {},
   "outputs": [
    {
     "data": {
      "text/html": [
       "\n",
       "            <div>\n",
       "                <p><b>SparkSession - in-memory</b></p>\n",
       "                \n",
       "        <div>\n",
       "            <p><b>SparkContext</b></p>\n",
       "\n",
       "            <p><a href=\"http://192.168.1.4:4040\">Spark UI</a></p>\n",
       "\n",
       "            <dl>\n",
       "              <dt>Version</dt>\n",
       "                <dd><code>v3.2.0</code></dd>\n",
       "              <dt>Master</dt>\n",
       "                <dd><code>local[*]</code></dd>\n",
       "              <dt>AppName</dt>\n",
       "                <dd><code>Clean Data</code></dd>\n",
       "            </dl>\n",
       "        </div>\n",
       "        \n",
       "            </div>\n",
       "        "
      ],
      "text/plain": [
       "<pyspark.sql.session.SparkSession at 0x21baef0cdf0>"
      ]
     },
     "execution_count": 6,
     "metadata": {},
     "output_type": "execute_result"
    }
   ],
   "source": [
    "spark"
   ]
  },
  {
   "cell_type": "code",
   "execution_count": 16,
   "metadata": {},
   "outputs": [],
   "source": [
    "bds_df = spark.read.csv(\"resources/data/final/alo_nha_dat_lat_long.csv\", header=True)"
   ]
  },
  {
   "cell_type": "markdown",
   "metadata": {},
   "source": [
    "Convert Type"
   ]
  },
  {
   "cell_type": "code",
   "execution_count": 17,
   "metadata": {},
   "outputs": [],
   "source": [
    "cvt = {\"StringType\" : 'str',\n",
    " \"FloatType\" : 'float',\n",
    " \"IntegerType\" : 'int'}\n",
    "\n",
    "sql_cvt = [f\"cast({field.name} as {cvt[str(field.dataType)]})  {field.name}\" if str(field.dataType) != 'StringType' else f\"{field.name}\" for field in schema.fields ]\n",
    "\n",
    "bds_df_cast = bds_df.selectExpr(*sql_cvt)\n",
    "bds_df_cast = bds_df_cast.sample(0.4)"
   ]
  },
  {
   "cell_type": "code",
   "execution_count": 18,
   "metadata": {},
   "outputs": [
    {
     "name": "stdout",
     "output_type": "stream",
     "text": [
      "Number of rows:  23814\n",
      "root\n",
      " |-- address: string (nullable = true)\n",
      " |-- facade: float (nullable = true)\n",
      " |-- direction: string (nullable = true)\n",
      " |-- area: float (nullable = true)\n",
      " |-- bedroom: integer (nullable = true)\n",
      " |-- bathroom: integer (nullable = true)\n",
      " |-- floors: integer (nullable = true)\n",
      " |-- house_type: string (nullable = true)\n",
      " |-- price: float (nullable = true)\n",
      " |-- street_size: float (nullable = true)\n",
      " |-- lat: float (nullable = true)\n",
      " |-- lng: float (nullable = true)\n",
      "\n",
      "+--------------------+------+---------+-----+-------+--------+------+--------------------+-----+-----------+--------+---------+\n",
      "|             address|facade|direction| area|bedroom|bathroom|floors|          house_type|price|street_size|     lat|      lng|\n",
      "+--------------------+------+---------+-----+-------+--------+------+--------------------+-----+-----------+--------+---------+\n",
      "| Đường Lê Trọng T...|   4.0| Đông Nam| 31.0|      3|    null|     3|        Nhà mặt tiền|  1.5|        3.0| 20.9629|105.76203|\n",
      "| Quận Bắc Từ Liêm...|   8.0|     null|233.0|     58|    null|     9|        Nhà mặt tiền| 16.0|        5.0|21.06217|105.76941|\n",
      "| Đường Hoàng Mai,...|   4.0|     null| 30.0|      3|    null|     5|       Nhà trong hẻm| 3.15|        2.0|20.98837|  105.857|\n",
      "| Phố Phương Mai, ...|  null|     null| 78.0|      6|    null|     7|        Nhà mặt tiền| 18.0|        6.0|21.00546|105.83898|\n",
      "| Đại lộ Thăng Lon...|   5.0|     null| 94.0|   null|    null|  null|   Đất thổ cư, đất ở|1.457|        5.0|20.98958|105.56879|\n",
      "| Đường Minh Khai,...|   3.0|     null| 30.0|      2|    null|     3|       Nhà trong hẻm| 2.07|        2.0| 20.9948|105.85276|\n",
      "| Đường Yên Xá, Ph...|   4.0|     null| 55.0|      1|    null|     1|        Nhà mặt tiền| 2.35|       30.0|20.97875| 105.7928|\n",
      "| Đường Liên Xã, X...|  null|     null| 50.0|   null|    null|  null|   Đất thổ cư, đất ở| 0.79|       null|20.91702|105.89807|\n",
      "| Xã Thuỷ Xuân Tiê...|  null|     null| 1.26|   null|    null|  null|   Đất thổ cư, đất ở|  3.6|        6.0|20.90422|105.60292|\n",
      "| Quận Hà Đông, Hà...|  null|     null| 64.0|      4|    null|     4|Biệt thự, nhà liề...| 7.25|        6.0|20.97382|105.77916|\n",
      "| Đường Cầu Diễn, ...|   7.0|     null| 70.0|     12|    null|     7|        Nhà mặt tiền|  7.8|        7.0|21.04534|105.75826|\n",
      "| Phố Hoàng Cầu, P...|   5.8|     null| 67.0|      5|    null|     4|       Nhà trong hẻm|  6.5|        2.0|21.01857|105.82391|\n",
      "| Đường Lê Quang Đ...|   4.0|     null|110.0|      3|    null|     2|   Đất thổ cư, đất ở|  5.8|        2.0|21.01304|105.76635|\n",
      "| cầu diễn Đường V...|  null|     null| 54.0|   null|    null|  null|   Đất thổ cư, đất ở| 2.55|        3.0|21.05258|105.73961|\n",
      "| Đường Đào Tấn, P...|  null|     null| 48.0|      4|    null|     6|       Nhà trong hẻm|  7.1|        2.5| 21.0324|105.80723|\n",
      "| Đường Mậu Lương,...|   4.0|     null| 34.0|      3|    null|     5|        Nhà mặt tiền|  3.3|        7.0|20.95626|105.79409|\n",
      "| Phố Lê Trọng Tấn...|   4.0|     null| 60.0|      1|    null|     1|       Nhà trong hẻm| 8.99|        7.0|20.99603|105.82993|\n",
      "| Đường Ngọc Thụy,...|   6.7|     null| 73.0|      3|    null|     3|        Nhà mặt tiền|  5.5|        5.0|21.06359|105.87121|\n",
      "| Phố Trung Kính, ...|   4.0|     null| 63.0|      6|    null|     5|       Nhà trong hẻm|  6.1|        4.0|21.01355|105.80049|\n",
      "| SN 18 Ngõ 265 Đư...|   4.0|     null| 55.0|   null|    null|     5|   Đất thổ cư, đất ở|  4.5|        3.0| 20.9929|105.79328|\n",
      "+--------------------+------+---------+-----+-------+--------+------+--------------------+-----+-----------+--------+---------+\n",
      "only showing top 20 rows\n",
      "\n"
     ]
    }
   ],
   "source": [
    "print(\"Number of rows: \", bds_df_cast.count())\n",
    "bds_df_cast.printSchema()\n",
    "bds_df_cast.show()\n",
    "\n"
   ]
  },
  {
   "cell_type": "markdown",
   "metadata": {},
   "source": [
    "Remove some null value"
   ]
  },
  {
   "cell_type": "code",
   "execution_count": 19,
   "metadata": {},
   "outputs": [
    {
     "name": "stdout",
     "output_type": "stream",
     "text": [
      "Number of rows after filter:  23758\n"
     ]
    }
   ],
   "source": [
    "# remove null address, price or lat/lng\n",
    "\n",
    "bds_df_cast = bds_df_cast.filter(\"address is not NULL\")\\\n",
    "    .filter(\"price is not NULL\")\\\n",
    "    .filter(\"lat != 0.0\")\\\n",
    "    .filter(\"area is not NULL\")\n",
    "    \n",
    "print(\"Number of rows after filter: \", bds_df_cast.count())"
   ]
  },
  {
   "cell_type": "code",
   "execution_count": 20,
   "metadata": {},
   "outputs": [],
   "source": [
    "bds_df_cast = bds_df_cast.sample(0.3)"
   ]
  },
  {
   "cell_type": "code",
   "execution_count": 21,
   "metadata": {},
   "outputs": [
    {
     "name": "stdout",
     "output_type": "stream",
     "text": [
      "+-------+--------------------+------------------+---------+-----------------+-----------------+--------+------------------+--------------------+-----------------+------------------+--------------------+------------------+\n",
      "|summary|             address|            facade|direction|             area|          bedroom|bathroom|            floors|          house_type|            price|       street_size|                 lat|               lng|\n",
      "+-------+--------------------+------------------+---------+-----------------+-----------------+--------+------------------+--------------------+-----------------+------------------+--------------------+------------------+\n",
      "|  count|                7088|              5141|      409|             7088|             6600|       0|              6648|                7088|             7088|              7018|                7088|              7088|\n",
      "|   mean|                null| 6.468799837424908|     null|83.84149647292179|5.586515151515152|    null| 4.943441636582431|                null|18.97988913084407|  9.91288116259193|    21.0171036593801|105.81985950147056|\n",
      "| stddev|                null|11.064297279816232|     null|84.16933124452396|6.787205722288584|    null|2.5480705377847284|                null|44.09769445766946|12.495080266315066|0.033054356887698935|0.0471114261492678|\n",
      "|    min| 00 Phố Trạm, Phư...|               0.0|      Bắc|              1.0|                1|    null|                 1|Biệt thự, nhà liề...|         0.002808|               0.0|            20.79243|         105.40455|\n",
      "|    max| đống đa.hà nội Đ...|             500.0| Đông Nam|            980.0|              150|    null|               105|   Đất thổ cư, đất ở|            950.0|             200.0|            21.27702|         107.07684|\n",
      "+-------+--------------------+------------------+---------+-----------------+-----------------+--------+------------------+--------------------+-----------------+------------------+--------------------+------------------+\n",
      "\n"
     ]
    }
   ],
   "source": [
    "bds_df_cast.describe().show()"
   ]
  },
  {
   "cell_type": "code",
   "execution_count": 23,
   "metadata": {},
   "outputs": [],
   "source": [
    "bds_df_cast.toPandas().to_csv(\"resources/data/final/clean/alo_nha_dat_lat_long_clean.csv\", header=True)"
   ]
  },
  {
   "cell_type": "code",
   "execution_count": null,
   "metadata": {},
   "outputs": [],
   "source": []
  }
 ],
 "metadata": {
  "interpreter": {
   "hash": "7207a9b4f87859c6033f4a38aff786067938802fd72543345f36428dbb24ad03"
  },
  "kernelspec": {
   "display_name": "Python 3.9.7 64-bit ('ds_project': conda)",
   "language": "python",
   "name": "python3"
  },
  "language_info": {
   "codemirror_mode": {
    "name": "ipython",
    "version": 3
   },
   "file_extension": ".py",
   "mimetype": "text/x-python",
   "name": "python",
   "nbconvert_exporter": "python",
   "pygments_lexer": "ipython3",
   "version": "3.9.7"
  },
  "orig_nbformat": 4
 },
 "nbformat": 4,
 "nbformat_minor": 2
}
