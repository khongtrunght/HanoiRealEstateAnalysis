{
 "cells": [
  {
   "cell_type": "markdown",
   "metadata": {},
   "source": [
    "# Preprocess demography data from Wikipedia"
   ]
  },
  {
   "cell_type": "code",
   "execution_count": 1,
   "metadata": {},
   "outputs": [
    {
     "data": {
      "text/plain": [
       "123456.723"
      ]
     },
     "execution_count": 1,
     "metadata": {},
     "output_type": "execute_result"
    }
   ],
   "source": [
    "import json \n",
    "import csv\n",
    "\n",
    "import numpy as np \n",
    "import pandas as pd \n",
    "from locale import atof, setlocale, LC_NUMERIC\n",
    "\n",
    "setlocale(LC_NUMERIC, 'vietnamese')\n",
    "\n",
    "atof('123.456,723')\n",
    "\n"
   ]
  },
  {
   "cell_type": "code",
   "execution_count": 2,
   "metadata": {},
   "outputs": [
    {
     "name": "stdout",
     "output_type": "stream",
     "text": [
      "d:\\OneDrive - Hanoi University of Science and Technology\\HUST\\CLASS\\20211\\DataScience\\Project\\Test_alonhadat\n"
     ]
    }
   ],
   "source": [
    "%cd .."
   ]
  },
  {
   "cell_type": "code",
   "execution_count": 3,
   "metadata": {},
   "outputs": [],
   "source": [
    "data = pd.read_csv('resources/data/hanoi_demography.csv', dtype=str)"
   ]
  },
  {
   "cell_type": "code",
   "execution_count": 4,
   "metadata": {},
   "outputs": [
    {
     "data": {
      "text/html": [
       "<div>\n",
       "<style scoped>\n",
       "    .dataframe tbody tr th:only-of-type {\n",
       "        vertical-align: middle;\n",
       "    }\n",
       "\n",
       "    .dataframe tbody tr th {\n",
       "        vertical-align: top;\n",
       "    }\n",
       "\n",
       "    .dataframe thead th {\n",
       "        text-align: right;\n",
       "    }\n",
       "</style>\n",
       "<table border=\"1\" class=\"dataframe\">\n",
       "  <thead>\n",
       "    <tr style=\"text-align: right;\">\n",
       "      <th></th>\n",
       "      <th>web-scraper-order</th>\n",
       "      <th>web-scraper-start-url</th>\n",
       "      <th>Số thứ tự</th>\n",
       "      <th>Tên đơn vị hành chính</th>\n",
       "      <th>Tỉnh/Thành phố</th>\n",
       "      <th>Chú thích</th>\n",
       "      <th>Dân số (người)</th>\n",
       "      <th>Diện tích (km²)</th>\n",
       "      <th>Mật độ dân số (người/km²)</th>\n",
       "    </tr>\n",
       "  </thead>\n",
       "  <tbody>\n",
       "    <tr>\n",
       "      <th>0</th>\n",
       "      <td>1639298838-460</td>\n",
       "      <td>https://vi.wikipedia.org/wiki/Danh_s%C3%A1ch_%...</td>\n",
       "      <td>460</td>\n",
       "      <td>Phú Thọ</td>\n",
       "      <td>Phú Thọ</td>\n",
       "      <td>thị xã</td>\n",
       "      <td>70.653</td>\n",
       "      <td>65,2</td>\n",
       "      <td>1.084</td>\n",
       "    </tr>\n",
       "    <tr>\n",
       "      <th>1</th>\n",
       "      <td>1639298838-383</td>\n",
       "      <td>https://vi.wikipedia.org/wiki/Danh_s%C3%A1ch_%...</td>\n",
       "      <td>383</td>\n",
       "      <td>Mỹ Lộc</td>\n",
       "      <td>Nam Định</td>\n",
       "      <td>NaN</td>\n",
       "      <td>72.514</td>\n",
       "      <td>74,5</td>\n",
       "      <td>973</td>\n",
       "    </tr>\n",
       "    <tr>\n",
       "      <th>2</th>\n",
       "      <td>1639298838-390</td>\n",
       "      <td>https://vi.wikipedia.org/wiki/Danh_s%C3%A1ch_%...</td>\n",
       "      <td>390</td>\n",
       "      <td>Nam Đàn</td>\n",
       "      <td>Nghệ An</td>\n",
       "      <td>NaN</td>\n",
       "      <td>164.634</td>\n",
       "      <td>292,5</td>\n",
       "      <td>563</td>\n",
       "    </tr>\n",
       "    <tr>\n",
       "      <th>3</th>\n",
       "      <td>1639298838-105</td>\n",
       "      <td>https://vi.wikipedia.org/wiki/Danh_s%C3%A1ch_%...</td>\n",
       "      <td>105</td>\n",
       "      <td>Châu Đức</td>\n",
       "      <td>Bà Rịa – Vũng Tàu</td>\n",
       "      <td>NaN</td>\n",
       "      <td>143.859</td>\n",
       "      <td>424,6</td>\n",
       "      <td>339</td>\n",
       "    </tr>\n",
       "    <tr>\n",
       "      <th>4</th>\n",
       "      <td>1639298838-31</td>\n",
       "      <td>https://vi.wikipedia.org/wiki/Danh_s%C3%A1ch_%...</td>\n",
       "      <td>31</td>\n",
       "      <td>Bắc Sơn</td>\n",
       "      <td>Lạng Sơn</td>\n",
       "      <td>NaN</td>\n",
       "      <td>71.967</td>\n",
       "      <td>699,4</td>\n",
       "      <td>103</td>\n",
       "    </tr>\n",
       "  </tbody>\n",
       "</table>\n",
       "</div>"
      ],
      "text/plain": [
       "  web-scraper-order                              web-scraper-start-url  \\\n",
       "0    1639298838-460  https://vi.wikipedia.org/wiki/Danh_s%C3%A1ch_%...   \n",
       "1    1639298838-383  https://vi.wikipedia.org/wiki/Danh_s%C3%A1ch_%...   \n",
       "2    1639298838-390  https://vi.wikipedia.org/wiki/Danh_s%C3%A1ch_%...   \n",
       "3    1639298838-105  https://vi.wikipedia.org/wiki/Danh_s%C3%A1ch_%...   \n",
       "4     1639298838-31  https://vi.wikipedia.org/wiki/Danh_s%C3%A1ch_%...   \n",
       "\n",
       "  Số thứ tự Tên đơn vị hành chính     Tỉnh/Thành phố Chú thích Dân số (người)  \\\n",
       "0       460               Phú Thọ            Phú Thọ    thị xã         70.653   \n",
       "1       383                Mỹ Lộc           Nam Định       NaN         72.514   \n",
       "2       390               Nam Đàn            Nghệ An       NaN        164.634   \n",
       "3       105              Châu Đức  Bà Rịa – Vũng Tàu       NaN        143.859   \n",
       "4        31               Bắc Sơn           Lạng Sơn       NaN         71.967   \n",
       "\n",
       "  Diện tích (km²) Mật độ dân số (người/km²)  \n",
       "0            65,2                     1.084  \n",
       "1            74,5                       973  \n",
       "2           292,5                       563  \n",
       "3           424,6                       339  \n",
       "4           699,4                       103  "
      ]
     },
     "execution_count": 4,
     "metadata": {},
     "output_type": "execute_result"
    }
   ],
   "source": [
    "data.head()"
   ]
  },
  {
   "cell_type": "code",
   "execution_count": 5,
   "metadata": {},
   "outputs": [
    {
     "name": "stdout",
     "output_type": "stream",
     "text": [
      "<class 'pandas.core.frame.DataFrame'>\n",
      "RangeIndex: 705 entries, 0 to 704\n",
      "Data columns (total 9 columns):\n",
      " #   Column                     Non-Null Count  Dtype \n",
      "---  ------                     --------------  ----- \n",
      " 0   web-scraper-order          705 non-null    object\n",
      " 1   web-scraper-start-url      705 non-null    object\n",
      " 2   Số thứ tự                  705 non-null    object\n",
      " 3   Tên đơn vị hành chính      705 non-null    object\n",
      " 4   Tỉnh/Thành phố             705 non-null    object\n",
      " 5   Chú thích                  188 non-null    object\n",
      " 6   Dân số (người)             705 non-null    object\n",
      " 7   Diện tích (km²)            705 non-null    object\n",
      " 8   Mật độ dân số (người/km²)  705 non-null    object\n",
      "dtypes: object(9)\n",
      "memory usage: 49.7+ KB\n"
     ]
    }
   ],
   "source": [
    "data.info()"
   ]
  },
  {
   "cell_type": "code",
   "execution_count": 6,
   "metadata": {},
   "outputs": [
    {
     "data": {
      "text/plain": [
       "Index(['web-scraper-order', 'web-scraper-start-url', 'Số thứ tự',\n",
       "       'Tên đơn vị hành chính', 'Tỉnh/Thành phố', 'Chú thích',\n",
       "       'Dân số (người)', 'Diện tích (km²)', 'Mật độ dân số (người/km²)'],\n",
       "      dtype='object')"
      ]
     },
     "execution_count": 6,
     "metadata": {},
     "output_type": "execute_result"
    }
   ],
   "source": [
    "data.columns"
   ]
  },
  {
   "cell_type": "markdown",
   "metadata": {},
   "source": [
    "## Remove thousands separator"
   ]
  },
  {
   "cell_type": "code",
   "execution_count": 7,
   "metadata": {},
   "outputs": [],
   "source": [
    "data['Dân số (người)']=data['Dân số (người)'].str.replace('\\[.*\\]', '', regex=True)\n",
    "data['Diện tích (km²)'] = data['Diện tích (km²)'].str.replace('\\[.*\\]', '', regex=True)\n",
    "data['Mật độ dân số (người/km²)'] = data['Mật độ dân số (người/km²)'].str.replace('\\[.*\\]', '', regex=True)\n"
   ]
  },
  {
   "cell_type": "markdown",
   "metadata": {},
   "source": [
    "## convert last 3 columns to right type"
   ]
  },
  {
   "cell_type": "code",
   "execution_count": 8,
   "metadata": {},
   "outputs": [],
   "source": [
    "data['Diện tích (km²)'] = data['Diện tích (km²)'].apply(atof)\n",
    "data['Mật độ dân số (người/km²)'] = data['Mật độ dân số (người/km²)'].apply(atof)\n",
    "data['Dân số (người)'] = data['Dân số (người)'].apply(atof)"
   ]
  },
  {
   "cell_type": "code",
   "execution_count": 9,
   "metadata": {},
   "outputs": [
    {
     "name": "stdout",
     "output_type": "stream",
     "text": [
      "<class 'pandas.core.frame.DataFrame'>\n",
      "RangeIndex: 705 entries, 0 to 704\n",
      "Data columns (total 9 columns):\n",
      " #   Column                     Non-Null Count  Dtype  \n",
      "---  ------                     --------------  -----  \n",
      " 0   web-scraper-order          705 non-null    object \n",
      " 1   web-scraper-start-url      705 non-null    object \n",
      " 2   Số thứ tự                  705 non-null    object \n",
      " 3   Tên đơn vị hành chính      705 non-null    object \n",
      " 4   Tỉnh/Thành phố             705 non-null    object \n",
      " 5   Chú thích                  188 non-null    object \n",
      " 6   Dân số (người)             705 non-null    float64\n",
      " 7   Diện tích (km²)            705 non-null    float64\n",
      " 8   Mật độ dân số (người/km²)  705 non-null    float64\n",
      "dtypes: float64(3), object(6)\n",
      "memory usage: 49.7+ KB\n"
     ]
    }
   ],
   "source": [
    "data.info()"
   ]
  },
  {
   "cell_type": "markdown",
   "metadata": {},
   "source": [
    "## Save file"
   ]
  },
  {
   "cell_type": "code",
   "execution_count": 11,
   "metadata": {},
   "outputs": [],
   "source": [
    "data.to_csv('resources/data/final/hanoi_demography_final.csv')"
   ]
  },
  {
   "cell_type": "code",
   "execution_count": null,
   "metadata": {},
   "outputs": [],
   "source": []
  }
 ],
 "metadata": {
  "interpreter": {
   "hash": "7207a9b4f87859c6033f4a38aff786067938802fd72543345f36428dbb24ad03"
  },
  "kernelspec": {
   "display_name": "Python 3.9.7 64-bit ('ds_project': conda)",
   "language": "python",
   "name": "python3"
  },
  "language_info": {
   "codemirror_mode": {
    "name": "ipython",
    "version": 3
   },
   "file_extension": ".py",
   "mimetype": "text/x-python",
   "name": "python",
   "nbconvert_exporter": "python",
   "pygments_lexer": "ipython3",
   "version": "3.9.7"
  },
  "orig_nbformat": 4
 },
 "nbformat": 4,
 "nbformat_minor": 2
}
