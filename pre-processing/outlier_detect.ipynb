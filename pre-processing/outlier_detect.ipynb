{
 "cells": [
  {
   "cell_type": "markdown",
   "metadata": {},
   "source": [
    "# Data Cleaning, Handle missing value for all data after Union, Join and some basic step in table prep "
   ]
  },
  {
   "cell_type": "markdown",
   "metadata": {},
   "source": [
    "## 1. Import necessary libraries and files"
   ]
  },
  {
   "cell_type": "code",
   "execution_count": 1,
   "metadata": {},
   "outputs": [],
   "source": [
    "import numpy as np \n",
    "import pandas as pd\n",
    "import matplotlib.pyplot as plt \n",
    "%matplotlib inline\n",
    "import seaborn as sns"
   ]
  },
  {
   "cell_type": "code",
   "execution_count": 2,
   "metadata": {},
   "outputs": [
    {
     "name": "stdout",
     "output_type": "stream",
     "text": [
      "d:\\OneDrive - Hanoi University of Science and Technology\\HUST\\CLASS\\20211\\DataScience\\Project\\Test_alonhadat\n"
     ]
    }
   ],
   "source": [
    "%cd .."
   ]
  },
  {
   "cell_type": "code",
   "execution_count": 3,
   "metadata": {},
   "outputs": [],
   "source": [
    "estate_df_origin = pd.read_csv('resources/data/final/out_tableau/official.csv', low_memory=False)\n",
    "estate_df = estate_df_origin"
   ]
  },
  {
   "cell_type": "markdown",
   "metadata": {},
   "source": [
    "## 2. Summary of data"
   ]
  },
  {
   "cell_type": "code",
   "execution_count": 4,
   "metadata": {},
   "outputs": [
    {
     "name": "stdout",
     "output_type": "stream",
     "text": [
      "<class 'pandas.core.frame.DataFrame'>\n",
      "RangeIndex: 68117 entries, 0 to 68116\n",
      "Data columns (total 22 columns):\n",
      " #   Column              Non-Null Count  Dtype  \n",
      "---  ------              --------------  -----  \n",
      " 0   district            68117 non-null  object \n",
      " 1   price_per_square    68117 non-null  float64\n",
      " 2   address             68117 non-null  object \n",
      " 3   furniture           18248 non-null  object \n",
      " 4   floornumber         1230 non-null   float64\n",
      " 5   area                68117 non-null  float64\n",
      " 6   direction           16836 non-null  object \n",
      " 7   price               68117 non-null  float64\n",
      " 8   lat                 68117 non-null  float64\n",
      " 9   lng                 68117 non-null  float64\n",
      " 10  bedroom             58513 non-null  float64\n",
      " 11  bathroom            44387 non-null  float64\n",
      " 12  floors              45608 non-null  float64\n",
      " 13  house_type          68117 non-null  object \n",
      " 14  facade              19051 non-null  float64\n",
      " 15  street_size         18462 non-null  float64\n",
      " 16  district-1          68117 non-null  object \n",
      " 17  num_people          68117 non-null  int64  \n",
      " 18  area(m2)            68117 non-null  float64\n",
      " 19  density(people/m2)  68117 non-null  int64  \n",
      " 20  note                68117 non-null  object \n",
      " 21  city                68117 non-null  object \n",
      "dtypes: float64(12), int64(2), object(8)\n",
      "memory usage: 11.4+ MB\n"
     ]
    }
   ],
   "source": [
    "estate_df.info()"
   ]
  },
  {
   "cell_type": "markdown",
   "metadata": {},
   "source": [
    "## 3. Process"
   ]
  },
  {
   "cell_type": "markdown",
   "metadata": {},
   "source": [
    "Drop some redundant collumns"
   ]
  },
  {
   "cell_type": "code",
   "execution_count": 5,
   "metadata": {},
   "outputs": [
    {
     "name": "stderr",
     "output_type": "stream",
     "text": [
      "C:\\Users\\khong\\AppData\\Local\\Temp/ipykernel_9628/3631682377.py:1: FutureWarning: In a future version of pandas all arguments of DataFrame.drop except for the argument 'labels' will be keyword-only\n",
      "  estate_df = estate_df.drop('district-1', 1)\n",
      "C:\\Users\\khong\\AppData\\Local\\Temp/ipykernel_9628/3631682377.py:2: FutureWarning: In a future version of pandas all arguments of DataFrame.drop except for the argument 'labels' will be keyword-only\n",
      "  estate_df = estate_df.drop('city', 1)\n"
     ]
    }
   ],
   "source": [
    "\n",
    "estate_df = estate_df.drop('district-1', 1)\n",
    "estate_df = estate_df.drop('city', 1)\n",
    "\n",
    "types_dict = {\n",
    "    'floornumber': pd.Int64Dtype(),\n",
    "    'bedroom': pd.Int64Dtype(),\n",
    "    'bathroom': pd.Int64Dtype(),\n",
    "    'floors': pd.Int64Dtype()\n",
    "}\n",
    "\n",
    "for col, col_type in types_dict.items():\n",
    "    estate_df[col] = estate_df[col].astype(col_type)"
   ]
  },
  {
   "cell_type": "markdown",
   "metadata": {},
   "source": [
    "Number of null in each column"
   ]
  },
  {
   "cell_type": "code",
   "execution_count": 6,
   "metadata": {},
   "outputs": [
    {
     "data": {
      "text/plain": [
       "district                  0\n",
       "price_per_square          0\n",
       "address                   0\n",
       "furniture             49869\n",
       "floornumber           66887\n",
       "area                      0\n",
       "direction             51281\n",
       "price                     0\n",
       "lat                       0\n",
       "lng                       0\n",
       "bedroom                9604\n",
       "bathroom              23730\n",
       "floors                22509\n",
       "house_type                0\n",
       "facade                49066\n",
       "street_size           49655\n",
       "num_people                0\n",
       "area(m2)                  0\n",
       "density(people/m2)        0\n",
       "note                      0\n",
       "dtype: int64"
      ]
     },
     "execution_count": 6,
     "metadata": {},
     "output_type": "execute_result"
    }
   ],
   "source": [
    "estate_df.isnull().sum()"
   ]
  },
  {
   "cell_type": "code",
   "execution_count": 7,
   "metadata": {},
   "outputs": [
    {
     "data": {
      "text/html": [
       "<div>\n",
       "<style scoped>\n",
       "    .dataframe tbody tr th:only-of-type {\n",
       "        vertical-align: middle;\n",
       "    }\n",
       "\n",
       "    .dataframe tbody tr th {\n",
       "        vertical-align: top;\n",
       "    }\n",
       "\n",
       "    .dataframe thead th {\n",
       "        text-align: right;\n",
       "    }\n",
       "</style>\n",
       "<table border=\"1\" class=\"dataframe\">\n",
       "  <thead>\n",
       "    <tr style=\"text-align: right;\">\n",
       "      <th></th>\n",
       "      <th>district</th>\n",
       "      <th>price_per_square</th>\n",
       "      <th>address</th>\n",
       "      <th>furniture</th>\n",
       "      <th>floornumber</th>\n",
       "      <th>area</th>\n",
       "      <th>direction</th>\n",
       "      <th>price</th>\n",
       "      <th>lat</th>\n",
       "      <th>lng</th>\n",
       "      <th>bedroom</th>\n",
       "      <th>bathroom</th>\n",
       "      <th>floors</th>\n",
       "      <th>house_type</th>\n",
       "      <th>facade</th>\n",
       "      <th>street_size</th>\n",
       "      <th>num_people</th>\n",
       "      <th>area(m2)</th>\n",
       "      <th>density(people/m2)</th>\n",
       "      <th>note</th>\n",
       "    </tr>\n",
       "  </thead>\n",
       "  <tbody>\n",
       "    <tr>\n",
       "      <th>15022</th>\n",
       "      <td>Long Biên</td>\n",
       "      <td>31.75</td>\n",
       "      <td>Đường Huỳnh Văn Nghệ, Phường Sài Đồng, Long Bi...</td>\n",
       "      <td>Hoàn thiện cơ bản</td>\n",
       "      <td>&lt;NA&gt;</td>\n",
       "      <td>63.0</td>\n",
       "      <td>Tây</td>\n",
       "      <td>2.0</td>\n",
       "      <td>21.03445</td>\n",
       "      <td>105.91374</td>\n",
       "      <td>2</td>\n",
       "      <td>2</td>\n",
       "      <td>1</td>\n",
       "      <td>Căn hộ chung cư</td>\n",
       "      <td>NaN</td>\n",
       "      <td>NaN</td>\n",
       "      <td>322549</td>\n",
       "      <td>59.8</td>\n",
       "      <td>5394</td>\n",
       "      <td>quận</td>\n",
       "    </tr>\n",
       "  </tbody>\n",
       "</table>\n",
       "</div>"
      ],
      "text/plain": [
       "        district  price_per_square  \\\n",
       "15022  Long Biên             31.75   \n",
       "\n",
       "                                                 address          furniture  \\\n",
       "15022  Đường Huỳnh Văn Nghệ, Phường Sài Đồng, Long Bi...  Hoàn thiện cơ bản   \n",
       "\n",
       "       floornumber  area direction  price       lat        lng  bedroom  \\\n",
       "15022         <NA>  63.0       Tây    2.0  21.03445  105.91374        2   \n",
       "\n",
       "       bathroom  floors       house_type  facade  street_size  num_people  \\\n",
       "15022         2       1  Căn hộ chung cư     NaN          NaN      322549   \n",
       "\n",
       "       area(m2)  density(people/m2)  note  \n",
       "15022      59.8                5394  quận  "
      ]
     },
     "execution_count": 7,
     "metadata": {},
     "output_type": "execute_result"
    }
   ],
   "source": [
    "estate_df.sample()"
   ]
  },
  {
   "cell_type": "markdown",
   "metadata": {},
   "source": [
    "# Set interval for some fields"
   ]
  },
  {
   "cell_type": "markdown",
   "metadata": {},
   "source": [
    "We decide to set the interval:\n",
    "\n",
    "    price : 0 -> 300 (billion  vnd)\n",
    "\n",
    "    area : 0 -> 500 (meter square)\n",
    "    \n",
    "    price / m2 : 0-> 3000 (million per meter square)\n"
   ]
  },
  {
   "cell_type": "code",
   "execution_count": 8,
   "metadata": {},
   "outputs": [],
   "source": [
    "max_price = 300\n",
    "max_area = 500\n",
    "max_price_m2 = 3000"
   ]
  },
  {
   "cell_type": "markdown",
   "metadata": {},
   "source": [
    "## Outlier Detect\n",
    "\n",
    "Because the data is skew, we decide to use IQR score to detect outliers"
   ]
  },
  {
   "cell_type": "code",
   "execution_count": 9,
   "metadata": {},
   "outputs": [],
   "source": [
    "def filter_and_boxplot(df, field ,lower, upper):\n",
    "    df = df.loc[(df[field] <= upper) & (df[field] >= lower)]\n",
    "    sns.boxplot(x = df[field])\n",
    "    return df\n",
    "\n",
    "def find_lower_upper(df,field):\n",
    "    quantile1, quantile3 = np.percentile(estate_df[field], [25,75])\n",
    "    iqr_value=quantile3 - quantile1\n",
    "    lower_bound = max(quantile1 - (1.5 * iqr_value),0)\n",
    "    upper_bound = quantile3 + (1.5 * iqr_value)\n",
    "    print('====== ', field , ' =======')\n",
    "    print('Lower bound: ', lower_bound)\n",
    "    print('Upper bound: ', upper_bound)\n",
    "    return lower_bound, upper_bound"
   ]
  },
  {
   "cell_type": "code",
   "execution_count": 10,
   "metadata": {
    "scrolled": true
   },
   "outputs": [
    {
     "data": {
      "image/png": "[encoded data removed]",
      "text/plain": [
       "<Figure size 432x288 with 1 Axes>"
      ]
     },
     "metadata": {
      "needs_background": "light"
     },
     "output_type": "display_data"
    }
   ],
   "source": [
    "estate_df = filter_and_boxplot(estate_df, 'price', 0,max_price )"
   ]
  },
  {
   "cell_type": "code",
   "execution_count": 11,
   "metadata": {},
   "outputs": [
    {
     "data": {
      "image/png": "[encoded data removed]",
      "text/plain": [
       "<Figure size 432x288 with 1 Axes>"
      ]
     },
     "metadata": {
      "needs_background": "light"
     },
     "output_type": "display_data"
    }
   ],
   "source": [
    "estate_df = filter_and_boxplot(estate_df, 'area', 0,max_area )"
   ]
  },
  {
   "cell_type": "code",
   "execution_count": 12,
   "metadata": {},
   "outputs": [
    {
     "data": {
      "image/png": "[encoded data removed]",
      "text/plain": [
       "<Figure size 432x288 with 1 Axes>"
      ]
     },
     "metadata": {
      "needs_background": "light"
     },
     "output_type": "display_data"
    }
   ],
   "source": [
    "estate_df = filter_and_boxplot(estate_df, 'price_per_square', 0,max_price_m2 )"
   ]
  },
  {
   "cell_type": "code",
   "execution_count": 13,
   "metadata": {},
   "outputs": [
    {
     "data": {
      "text/plain": [
       "array(['Nhà trong hẻm', 'Nhà mặt tiền', 'Nhà ở-Nhà biệt thự',\n",
       "       'Bán loại bất động sản khác', 'Căn hộ chung cư', 'Bán đất'],\n",
       "      dtype=object)"
      ]
     },
     "execution_count": 13,
     "metadata": {},
     "output_type": "execute_result"
    }
   ],
   "source": [
    "estate_df.house_type.unique()"
   ]
  },
  {
   "cell_type": "markdown",
   "metadata": {},
   "source": [
    "Sẽ xoá outlier tương ứng với mỗi quận huyện và loại nhà"
   ]
  },
  {
   "cell_type": "code",
   "execution_count": 14,
   "metadata": {},
   "outputs": [],
   "source": [
    "def remove_outliers(df, field):\n",
    "    df_out = pd.DataFrame()\n",
    "    print('========', field, '======')\n",
    "    index_list = []\n",
    "    min_field = 100000\n",
    "    max_field = 0\n",
    "    \n",
    "    for key, subdf in df.groupby(['district','house_type']):\n",
    "        Q1 = subdf[field].quantile(0.25)\n",
    "        Q3 = subdf[field].quantile(0.75)\n",
    "        IQR = Q3 - Q1\n",
    "        low = max(Q1 - 1.5 * IQR, 0)\n",
    "        up = Q3 + 1.5 * IQR\n",
    "        ls = subdf.index[(subdf[field] < low) | (subdf[field] > up)]\n",
    "        # print(key, end=': ')\n",
    "        # print('Get value from ', f'{low:.2f}', ' to ', f'{up:.2f}')\n",
    "        index_list.extend(ls)\n",
    "        min_field = min(min_field, low)\n",
    "        max_field = max(max_field, up)\n",
    "        \n",
    "    print(field, ': ', f'{min_field:.2f}', ' to ', f'{max_field:.2f}')\n",
    "    return index_list"
   ]
  },
  {
   "cell_type": "code",
   "execution_count": 15,
   "metadata": {},
   "outputs": [],
   "source": [
    "def remove(df, index_list):\n",
    "    index_list = sorted(set(index_list))\n",
    "    df_out = df.drop(index_list)\n",
    "    return df_out"
   ]
  },
  {
   "cell_type": "code",
   "execution_count": 16,
   "metadata": {},
   "outputs": [
    {
     "name": "stdout",
     "output_type": "stream",
     "text": [
      "======== price ======\n",
      "price :  0.00  to  380.00\n",
      "======== area ======\n",
      "area :  0.00  to  922.00\n",
      "======== price_per_square ======\n",
      "price_per_square :  0.00  to  1194.18\n"
     ]
    }
   ],
   "source": [
    "index_list = []\n",
    "for feature in ['price', 'area', 'price_per_square']:\n",
    "    index_list.extend(remove_outliers(estate_df, feature))"
   ]
  },
  {
   "cell_type": "markdown",
   "metadata": {},
   "source": [
    "We can see after all:\n",
    "\n",
    "    *Price : 0 to 389 \n",
    "    \n",
    "    *Area : 0 to 922\n",
    "\n",
    "    *Price per square: 0 to 1194\n",
    "\n",
    "\n",
    "It's reasonable and consistent with the general knowledge about real estate market we have"
   ]
  },
  {
   "cell_type": "code",
   "execution_count": 17,
   "metadata": {},
   "outputs": [
    {
     "data": {
      "text/plain": [
       "7717"
      ]
     },
     "execution_count": 17,
     "metadata": {},
     "output_type": "execute_result"
    }
   ],
   "source": [
    "len(set(index_list))"
   ]
  },
  {
   "cell_type": "code",
   "execution_count": 18,
   "metadata": {},
   "outputs": [],
   "source": [
    "df_cleaned = remove(estate_df, index_list)"
   ]
  },
  {
   "cell_type": "markdown",
   "metadata": {},
   "source": [
    "# Fill missing values"
   ]
  },
  {
   "cell_type": "code",
   "execution_count": 19,
   "metadata": {},
   "outputs": [
    {
     "name": "stdout",
     "output_type": "stream",
     "text": [
      "Number of records:  59591\n",
      "Percent of missing values: \n"
     ]
    },
    {
     "data": {
      "text/plain": [
       "district               0.000000\n",
       "price_per_square       0.000000\n",
       "address                0.000000\n",
       "furniture             71.968921\n",
       "floornumber           98.219530\n",
       "area                   0.000000\n",
       "direction             74.744508\n",
       "price                  0.000000\n",
       "lat                    0.000000\n",
       "lng                    0.000000\n",
       "bedroom               12.100821\n",
       "bathroom              32.375694\n",
       "floors                33.090567\n",
       "house_type             0.000000\n",
       "facade                74.254502\n",
       "street_size           74.615294\n",
       "num_people             0.000000\n",
       "area(m2)               0.000000\n",
       "density(people/m2)     0.000000\n",
       "note                   0.000000\n",
       "dtype: float64"
      ]
     },
     "execution_count": 19,
     "metadata": {},
     "output_type": "execute_result"
    }
   ],
   "source": [
    "len_df = len(df_cleaned)\n",
    "print(\"Number of records: \", len_df)\n",
    "\n",
    "print(\"Percent of missing values: \")\n",
    "df_cleaned.isnull().sum() / len_df * 100 "
   ]
  },
  {
   "cell_type": "markdown",
   "metadata": {},
   "source": [
    "With bedroom bathroom, floors the percentage of missing data is acceptable -> fill with median of each group\n",
    "floornumber is only relate to department, only batdongsan website have this field so we decide to leave it as it is\n",
    "furniture we decide to drop\n",
    "facade và street_size : we analysis non null records, try to get some results"
   ]
  },
  {
   "cell_type": "code",
   "execution_count": 20,
   "metadata": {},
   "outputs": [],
   "source": [
    "def fill_missing(df, field):\n",
    "    df_out = pd.DataFrame()\n",
    "    print('========', field, '======')\n",
    "    for key, subdf in df.groupby(['district','house_type']):\n",
    "        med = subdf[field].median()\n",
    "        if not pd.isna(med):\n",
    "            med = int(med)\n",
    "        subdf[field] = subdf[field].fillna(med)\n",
    "        print(key, end=': ')\n",
    "        print('Fill missing ', field , ' with ', med)\n",
    "        df_out = pd.concat([df_out, subdf], ignore_index=True)\n",
    "    return df_out"
   ]
  },
  {
   "cell_type": "code",
   "execution_count": null,
   "metadata": {},
   "outputs": [],
   "source": [
    "df_cleaned = fill_missing(df_cleaned,'bedroom')\n",
    "df_cleaned = fill_missing(df_cleaned, 'bathroom')\n",
    "df_cleaned = fill_missing(df_cleaned, 'floors')"
   ]
  },
  {
   "cell_type": "code",
   "execution_count": 22,
   "metadata": {},
   "outputs": [
    {
     "name": "stdout",
     "output_type": "stream",
     "text": [
      "Len:  59591\n"
     ]
    },
    {
     "data": {
      "text/plain": [
       "district                  0\n",
       "price_per_square          0\n",
       "address                   0\n",
       "furniture             42887\n",
       "floornumber           58530\n",
       "area                      0\n",
       "direction             44541\n",
       "price                     0\n",
       "lat                       0\n",
       "lng                       0\n",
       "bedroom                 754\n",
       "bathroom               1089\n",
       "floors                  506\n",
       "house_type                0\n",
       "facade                44249\n",
       "street_size           44464\n",
       "num_people                0\n",
       "area(m2)                  0\n",
       "density(people/m2)        0\n",
       "note                      0\n",
       "dtype: int64"
      ]
     },
     "execution_count": 22,
     "metadata": {},
     "output_type": "execute_result"
    }
   ],
   "source": [
    "print(\"Len: \", len(df_cleaned))\n",
    "df_cleaned.isna().sum()"
   ]
  },
  {
   "cell_type": "markdown",
   "metadata": {},
   "source": [
    "After all we have 59591 records"
   ]
  },
  {
   "cell_type": "code",
   "execution_count": 23,
   "metadata": {},
   "outputs": [],
   "source": [
    "df_cleaned.to_csv('resources/data/final/out_tableau/official_done_process.csv', index=False)"
   ]
  },
  {
   "cell_type": "code",
   "execution_count": null,
   "metadata": {},
   "outputs": [],
   "source": []
  }
 ],
 "metadata": {
  "interpreter": {
   "hash": "7207a9b4f87859c6033f4a38aff786067938802fd72543345f36428dbb24ad03"
  },
  "kernelspec": {
   "display_name": "Python 3 (ipykernel)",
   "language": "python",
   "name": "python3"
  },
  "language_info": {
   "codemirror_mode": {
    "name": "ipython",
    "version": 3
   },
   "file_extension": ".py",
   "mimetype": "text/x-python",
   "name": "python",
   "nbconvert_exporter": "python",
   "pygments_lexer": "ipython3",
   "version": "3.9.7"
  }
 },
 "nbformat": 4,
 "nbformat_minor": 2
}
